{
 "cells": [
  {
   "cell_type": "code",
   "execution_count": 1,
   "metadata": {},
   "outputs": [],
   "source": [
    "import os\n",
    "import gc\n",
    "import numpy as np\n",
    "import pandas as pd\n",
    "\n",
    "from time import time\n",
    "from time import ctime\n",
    "\n",
    "import warnings\n",
    "warnings.filterwarnings(\"ignore\")\n",
    "from tqdm import tqdm_notebook\n",
    "from tqdm import tqdm\n",
    "\n",
    "import joblib\n",
    "from joblib import Parallel, delayed\n",
    "import multiprocessing\n",
    "num_cores = multiprocessing.cpu_count()-1\n",
    "\n",
    "from sklearn.metrics import mean_absolute_error\n",
    "from sklearn.metrics import r2_score\n",
    "from catboost import CatBoostRegressor, Pool\n",
    "from sklearn.model_selection import KFold\n",
    "import matplotlib.pyplot as plt\n",
    "\n",
    "def plotfig (ypred, yactual, strtitle, y_max):\n",
    "    plt.scatter(ypred, yactual.values.ravel())\n",
    "    plt.title(strtitle)\n",
    "    plt.plot([(0, 0), (y_max, y_max)], [(0, 0), (y_max, y_max)])\n",
    "    plt.xlim(0, y_max)\n",
    "    plt.ylim(0, y_max)\n",
    "    plt.xlabel('Predicted', fontsize=12)\n",
    "    plt.ylabel('Actual', fontsize=12)\n",
    "    plt.show()"
   ]
  },
  {
   "cell_type": "code",
   "execution_count": 2,
   "metadata": {},
   "outputs": [],
   "source": [
    "from tsfresh import select_features\n",
    "from tsfresh.utilities.dataframe_functions import impute\n",
    "from tsfresh import extract_relevant_features\n",
    "from tsfresh.feature_extraction import settings, extract_features, MinimalFCParameters, EfficientFCParameters, ComprehensiveFCParameters\n",
    "\n",
    "\n",
    "def features_generator(path_to_file):\n",
    "    signals = pd.read_csv(path_to_file)\n",
    "    seg = int(path_to_file.split('/')[-1].split('.')[0])\n",
    "    signals['segment_id'] = seg\n",
    "    \n",
    "    sel = signals.fillna(0).astype(bool).sum(axis=0) / 60001 > 0.5\n",
    "    signals = signals.fillna(0).loc[:,sel]\n",
    "\n",
    "    extracted_features = extract_features(signals.iloc[:,:], \n",
    "                                          column_id = 'segment_id', \n",
    "                                          default_fc_parameters=EfficientFCParameters(),\n",
    "                                          n_jobs = 2,\n",
    "                                          disable_progressbar = True,\n",
    "                                          chunksize = None,\n",
    "                                         )\n",
    "    return extracted_features\n",
    "\n"
   ]
  },
  {
   "cell_type": "code",
   "execution_count": null,
   "metadata": {},
   "outputs": [
    {
     "data": {
      "application/vnd.jupyter.widget-view+json": {
       "model_id": "a37a322fef7b4c0aa3d8f6c5402fbf34",
       "version_major": 2,
       "version_minor": 0
      },
      "text/plain": [
       "HBox(children=(FloatProgress(value=0.0, max=4431.0), HTML(value='')))"
      ]
     },
     "metadata": {},
     "output_type": "display_data"
    }
   ],
   "source": [
    "%%time\n",
    "train_path_to_signals = 'data/predict-volcanic-eruptions-ingv-oe/train/'\n",
    "train_files_list = [os.path.join(train_path_to_signals, file) for file in os.listdir(train_path_to_signals)]\n",
    "rows = Parallel(n_jobs=4)(delayed(features_generator)(ex) for ex in tqdm_notebook(train_files_list[:]))  \n",
    "train_set = pd.concat(rows, axis=0)\n",
    "\n",
    "test_path_to_signals = 'data/predict-volcanic-eruptions-ingv-oe/test/'\n",
    "test_files_list = [os.path.join(test_path_to_signals, file) for file in os.listdir(test_path_to_signals)]\n",
    "rows = Parallel(n_jobs=4)(delayed(features_generator)(ex) for ex in tqdm_notebook(test_files_list[:]))  \n",
    "test_set = pd.concat(rows, axis=0)"
   ]
  },
  {
   "cell_type": "code",
   "execution_count": null,
   "metadata": {},
   "outputs": [],
   "source": [
    "train_set.head(10)"
   ]
  },
  {
   "cell_type": "code",
   "execution_count": null,
   "metadata": {},
   "outputs": [],
   "source": [
    "test_set.head(10)"
   ]
  },
  {
   "cell_type": "code",
   "execution_count": null,
   "metadata": {},
   "outputs": [],
   "source": [
    "train_set.to_csv('train_features.csv', index=False)"
   ]
  },
  {
   "cell_type": "code",
   "execution_count": null,
   "metadata": {},
   "outputs": [],
   "source": [
    "test_set.to_csv('test_features.csv', index=False)"
   ]
  },
  {
   "cell_type": "code",
   "execution_count": null,
   "metadata": {},
   "outputs": [],
   "source": []
  }
 ],
 "metadata": {
  "kernelspec": {
   "display_name": "Python 3",
   "language": "python",
   "name": "python3"
  },
  "language_info": {
   "codemirror_mode": {
    "name": "ipython",
    "version": 3
   },
   "file_extension": ".py",
   "mimetype": "text/x-python",
   "name": "python",
   "nbconvert_exporter": "python",
   "pygments_lexer": "ipython3",
   "version": "3.7.7"
  }
 },
 "nbformat": 4,
 "nbformat_minor": 4
}
